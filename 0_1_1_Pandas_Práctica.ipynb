{
  "cells": [
    {
      "cell_type": "markdown",
      "metadata": {
        "id": "view-in-github",
        "colab_type": "text"
      },
      "source": [
        "<a href=\"https://colab.research.google.com/github/panicoro/FS-course-data-ai/blob/master/0_1_1_Pandas_Pr%C3%A1ctica.ipynb\" target=\"_parent\"><img src=\"https://colab.research.google.com/assets/colab-badge.svg\" alt=\"Open In Colab\"/></a>"
      ]
    },
    {
      "cell_type": "markdown",
      "source": [
        "# **Ciencia de Datos e Inteligencia Artificial para la industria del software**\n",
        "\n",
        "## **Edición 2024**\n",
        "\n",
        "---\n",
        "## 1.1.1. Análisis Exploratorio de Datos\n",
        "\n",
        "* Bibliotecas: Pandas"
      ],
      "metadata": {
        "id": "F1__BJHKbRBu"
      }
    },
    {
      "cell_type": "markdown",
      "source": [
        "---\n",
        "# ***Pandas***\n",
        "---\n"
      ],
      "metadata": {
        "id": "Tz7PQnNzbXId"
      }
    },
    {
      "cell_type": "markdown",
      "metadata": {
        "id": "SkMj5VW3shcV"
      },
      "source": [
        "## Dataset\n",
        "\n",
        "En la práctica de la clase de hoy usaremos una versión muy resumida de datos de la Encuesta Permanentes de Hogares (relevamiento llevado adelante por el INDEC). Se trata de una encuesta continua que tiene como objetivo fundamental generar información sobre el funcionamiento del mercado de trabajo.\n",
        "\n",
        "Solamente utilizaremos algunas variables (edad, nivel educativo, cantidad de horas trabajadas, calificación de la tarea e ingreso laboral) y algunos casos (los ocupados, es decir, aquellos que han trabajado al menos una hora en la semana anterior al relevamiento).\n"
      ]
    },
    {
      "cell_type": "markdown",
      "metadata": {
        "id": "kyBoN1T8shcW"
      },
      "source": [
        "Importamos la biblioteca pandas y asignamos pd como alias.\n",
        "Montamos nuestra unidad de Drive:"
      ]
    },
    {
      "cell_type": "code",
      "execution_count": null,
      "metadata": {
        "id": "a8tgkJQ3shcW"
      },
      "outputs": [],
      "source": [
        "import pandas as pd\n",
        "from google.colab import drive\n",
        "drive.mount('/content/drive')\n",
        "pathCurso = '/content/drive/MyDrive/CCDAA/Data/'\n"
      ]
    },
    {
      "cell_type": "markdown",
      "metadata": {
        "id": "w7IOUFuyshcX"
      },
      "source": [
        "## Ejercicio 1\n",
        "\n",
        "Vamos a leer los datos del archivo` data_filt.csv` en un `DataFrame` de pandas con el método `read_csv`\n",
        "\n",
        "https://pandas.pydata.org/pandas-docs/stable/reference/api/pandas.read_csv.html\n",
        "\n",
        "\n",
        "Este archivo tiene algunos datos numéricos y otros de tipo cadena de caracteres.\n",
        "\n",
        "Las columnas son:\n",
        "\n",
        "\"ch06\",\"nivel_ed\",\"htot\",\"calif\",\"p47t\"\n",
        "\n",
        "* ch06: int, edad\n",
        "\n",
        "* nivel_ed: string, nivel educativo\n",
        "\n",
        "* htot: int, cantidad de horas totales trabajadas en el período\n",
        "\n",
        "* calif: string, calificación de la tarea\n",
        "\n",
        "* p47t: int, ingreso\n",
        "\n"
      ]
    },
    {
      "cell_type": "code",
      "execution_count": null,
      "metadata": {
        "id": "V9RErWd3shcY"
      },
      "outputs": [],
      "source": [
        "ruta_archivo = pathCurso + 'data_filt.csv'\n",
        "data = pd.read_csv(ruta_archivo)"
      ]
    },
    {
      "cell_type": "markdown",
      "source": [
        "Como vemos, este archivo no está en codificación UTF-8 por defecto, utilizaremos codificación `latin-1`"
      ],
      "metadata": {
        "id": "23Odz61ujHcI"
      }
    },
    {
      "cell_type": "code",
      "source": [
        "data = pd.read_csv(ruta_archivo, encoding='latin-1')\n",
        "data"
      ],
      "metadata": {
        "id": "pk_uiXLMjdlk"
      },
      "execution_count": null,
      "outputs": []
    },
    {
      "cell_type": "markdown",
      "metadata": {
        "id": "LR8Y906SshcY"
      },
      "source": [
        "## Ejercicio 2\n",
        "\n",
        "Miremos ahora los primeros tres registros del `DataFrame` data, y los ultimos cinco registros.\n",
        "\n",
        "¿Cuántas filas tiene data? ¿Y cuántas columnas?\n",
        "\n",
        "Ayudas:\n",
        "\n",
        "https://pandas.pydata.org/pandas-docs/stable/reference/api/pandas.DataFrame.head.html?highlight=head#pandas.DataFrame.head\n",
        "\n",
        "https://pandas.pydata.org/pandas-docs/stable/reference/api/pandas.DataFrame.tail.html?highlight=tail#pandas.DataFrame.tail\n",
        "\n",
        "https://pandas.pydata.org/pandas-docs/stable/reference/api/pandas.DataFrame.shape.html?highlight=shape#pandas.DataFrame.shape\n",
        "\n",
        "https://pandas.pydata.org/pandas-docs/stable/reference/api/pandas.DataFrame.info.html?highlight=info\n"
      ]
    },
    {
      "cell_type": "code",
      "execution_count": null,
      "metadata": {
        "id": "v-vAwlTzshch"
      },
      "outputs": [],
      "source": []
    },
    {
      "cell_type": "markdown",
      "metadata": {
        "id": "qoBZ4c9zshci"
      },
      "source": [
        "## Ejercicio 3\n",
        "\n",
        "¿Cuáles son los nombres de las columnas del `DataFrame` data?\n",
        "\n",
        "¿Cuál es el índice del `DataFrame` data?\n",
        "\n",
        "Ayudas:\n",
        "\n",
        "https://pandas.pydata.org/pandas-docs/stable/reference/api/pandas.DataFrame.columns.html?highlight=columns#pandas.DataFrame.columns\n",
        "\n",
        "https://pandas.pydata.org/pandas-docs/stable/reference/api/pandas.DataFrame.index.html?highlight=index#pandas.DataFrame.index\n"
      ]
    },
    {
      "cell_type": "code",
      "execution_count": null,
      "metadata": {
        "id": "sSokt9imshcj"
      },
      "outputs": [],
      "source": []
    },
    {
      "cell_type": "markdown",
      "metadata": {
        "id": "UAqn-yOXshck"
      },
      "source": [
        "Renombremos ahora los columnas para que queden con estos valores:\n",
        "\n",
        "['edad', 'nivel_educativo', 'hs_trabajados', 'calif_ocupacional', 'ingreso_ult_mes']"
      ]
    },
    {
      "cell_type": "code",
      "execution_count": null,
      "metadata": {
        "id": "0gTkmC52shck"
      },
      "outputs": [],
      "source": []
    },
    {
      "cell_type": "markdown",
      "metadata": {
        "id": "qfWeUq6eshcl"
      },
      "source": [
        "## Ejercicio 4\n",
        "\n",
        "¿Cuál es el tipo de datos de la cuarta columna de data?"
      ]
    },
    {
      "cell_type": "code",
      "execution_count": null,
      "metadata": {
        "id": "_FMZg0XSshcm"
      },
      "outputs": [],
      "source": []
    },
    {
      "cell_type": "markdown",
      "metadata": {
        "id": "KPJdDglGshcn"
      },
      "source": [
        "## Ejercicio 5\n",
        "\n",
        "¿Cómo están distribuidos los niveles educativos? ¿Cuál es el más común?\n",
        "\n",
        "Ayuda:\n",
        "\n",
        "https://pandas.pydata.org/pandas-docs/stable/reference/api/pandas.Series.value_counts.html?highlight=value_counts#pandas.Series.value_counts\n"
      ]
    },
    {
      "cell_type": "code",
      "execution_count": null,
      "metadata": {
        "id": "lCELyfpLshcp"
      },
      "outputs": [],
      "source": []
    },
    {
      "cell_type": "markdown",
      "metadata": {
        "id": "5T5xVlMishcp"
      },
      "source": [
        "## Ejercicio 6\n",
        "\n",
        "¿Cuál es el ingreso medio de la población?"
      ]
    },
    {
      "cell_type": "code",
      "execution_count": null,
      "metadata": {
        "id": "_iFxCCcsshcq"
      },
      "outputs": [],
      "source": []
    },
    {
      "cell_type": "markdown",
      "metadata": {
        "id": "HMn0C27Sshcq"
      },
      "source": [
        "## Ejercicio 7\n",
        "\n",
        "Construyamos un objeto `DataFrame` con las columnas nivel_educativo e ingreso_ult_mes de data\n",
        "\n",
        "Seleccionemos las primeras 20 filas de este objeto `DataFrame`\n",
        "\n",
        "Seleccionemos una muestra aleatoria de 500 filas de este objeto `DataFrame`\n",
        "\n",
        "Ayuda:\n",
        "\n",
        "https://pandas.pydata.org/pandas-docs/stable/reference/api/pandas.DataFrame.sample.html?highlight=sample#pandas.DataFrame.sample"
      ]
    },
    {
      "cell_type": "code",
      "execution_count": null,
      "metadata": {
        "id": "o261kc95shcx"
      },
      "outputs": [],
      "source": []
    },
    {
      "cell_type": "markdown",
      "metadata": {
        "id": "kI0i-RYtshcz"
      },
      "source": [
        "## Ejercicio 8\n",
        "\n",
        "Construyamos un objeto `DataFrame` con todas las columnas de data excluyendo nivel_educativo.\n",
        "\n",
        "Ayuda:\n",
        "\n",
        "Construir una máscara booleana de los nombres de las columnas.\n"
      ]
    },
    {
      "cell_type": "code",
      "execution_count": null,
      "metadata": {
        "id": "MQRNuIbYshc0"
      },
      "outputs": [],
      "source": []
    },
    {
      "cell_type": "markdown",
      "metadata": {
        "id": "9GNIzZGbshc0"
      },
      "source": [
        "## Ejercicio 9\n",
        "\n",
        "Ordenar data según la columna edad en forma decreciente.\n",
        "\n",
        "Ayuda:\n",
        "\n",
        "https://pandas.pydata.org/pandas-docs/stable/reference/api/pandas.DataFrame.sort_values.html?highlight=sort_values#pandas.DataFrame.sort_values\n"
      ]
    },
    {
      "cell_type": "code",
      "execution_count": null,
      "metadata": {
        "id": "ByIRFtzmshc2"
      },
      "outputs": [],
      "source": []
    },
    {
      "cell_type": "markdown",
      "metadata": {
        "id": "v4MGfvvCshc4"
      },
      "source": [
        "## Ejercicio 10\n",
        "\n",
        "¿Cuál es el promedio de horas trabajadas de los jóvenes entre 14 y 25 años y poco calificados?\n",
        "\n",
        "Ayuda:\n",
        "    \n",
        "Combina varias máscaras booleanas"
      ]
    },
    {
      "cell_type": "code",
      "execution_count": null,
      "metadata": {
        "id": "X_YUL2lcshc5"
      },
      "outputs": [],
      "source": []
    },
    {
      "cell_type": "markdown",
      "metadata": {
        "id": "z0vXmgcrshc5"
      },
      "source": [
        "## Ejercicio 11\n",
        "\n",
        "Generemos un nuevo dataframe con los trabajadores que ganan más del promedio de ingresos general y están por debajo de la cantidad media de horas trabajadas. ¿Cuántos trabajadores se encuentran en esta condición? ¿Cuál es su edad mediana?\n",
        "\n",
        "Ayuda:\n",
        "\n",
        "Calcular el promedio de ingresos y la media de horas trabajadas\n",
        "\n",
        "Construir máscaras booleanas con estos valores\n",
        "\n",
        "Indexar data con la combinación de las máscaras construidas\n"
      ]
    },
    {
      "cell_type": "code",
      "execution_count": null,
      "metadata": {
        "id": "PwCfIIFTshc-"
      },
      "outputs": [],
      "source": []
    }
  ],
  "metadata": {
    "kernelspec": {
      "display_name": "Python 3",
      "language": "python",
      "name": "python3"
    },
    "language_info": {
      "codemirror_mode": {
        "name": "ipython",
        "version": 3
      },
      "file_extension": ".py",
      "mimetype": "text/x-python",
      "name": "python",
      "nbconvert_exporter": "python",
      "pygments_lexer": "ipython3",
      "version": "3.8.5"
    },
    "colab": {
      "provenance": [],
      "include_colab_link": true
    }
  },
  "nbformat": 4,
  "nbformat_minor": 0
}